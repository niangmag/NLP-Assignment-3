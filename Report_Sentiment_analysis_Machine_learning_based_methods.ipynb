{
  "nbformat": 4,
  "nbformat_minor": 0,
  "metadata": {
    "colab": {
      "provenance": [],
      "authorship_tag": "ABX9TyOUkZoLgshzY67hJiZvoVew",
      "include_colab_link": true
    },
    "kernelspec": {
      "name": "python3",
      "display_name": "Python 3"
    },
    "language_info": {
      "name": "python"
    }
  },
  "cells": [
    {
      "cell_type": "markdown",
      "metadata": {
        "id": "view-in-github",
        "colab_type": "text"
      },
      "source": [
        "<a href=\"https://colab.research.google.com/github/niangmag/NLP-Assignment-3/blob/Sentiment_Analysis/Report_Sentiment_analysis_Machine_learning_based_methods.ipynb\" target=\"_parent\"><img src=\"https://colab.research.google.com/assets/colab-badge.svg\" alt=\"Open In Colab\"/></a>"
      ]
    },
    {
      "cell_type": "code",
      "execution_count": null,
      "metadata": {
        "id": "-IDny7oAhvze"
      },
      "outputs": [],
      "source": []
    },
    {
      "cell_type": "markdown",
      "source": [
        "Sentiment Analysis Report\n",
        "\n",
        "Objective: To analyze the sentiment of a sample of tweets using a pre-trained sentiment analysis model from the Hugging Face Transformers library.\n",
        "\n",
        "Methodology:\n",
        "\n",
        "A random sample of 500 tweets was selected from the dataset.\n",
        "The tweet text was cleaned by removing URLs, mentions, hashtags, special characters, and numbers, and then converted to lowercase.\n",
        "The cleaned text was processed using a pre-trained sentiment analysis pipeline (distilbert-base-uncased-finetuned-sst-2-english) from the transformers library.\n",
        "For each tweet, the model predicted a sentiment label (POSITIVE or NEGATIVE) and a corresponding confidence score.\n",
        "Results:\n",
        "\n",
        "The analysis of the first 10 rows of the results (as shown in the notebook output) indicates the following:\n",
        "\n",
        "Tweets\tcleaned_text\tsentiment_label\tsentiment_score\n",
        "Le #DessinDePresse de Sanaga : ls sont morts c...\tle dessindepresse de sanaga ls sont morts com...\tNEGATIVE\t0.981537\n",
        "#Russia #Wagner #RussiaCivilWar [redacted link]...\trussia wagner russiacivilwar\tNEGATIVE\t0.962062\n",
        "Exclusive content -[redacted link]...\texclusive content cosplay japan titan tita...\tNEGATIVE\t0.961531\n",
        "Auch heute geht die politische Nachricht des T...\tauch heute geht die politische nachricht des t...\tNEGATIVE\t0.975570\n",
        "@crazyclipsonly Same type that would take a ho...\tsame type that would take a homemade playstati...\tNEGATIVE\t0.994473\n",
        "#SUGA_AgustD_TOUR_in_Seoul #SUGA_AgustD_TOUR #...\tsugaagustdtourinseoul sugaagustdtour glastonbu...\tNEGATIVE\t0.970569\n",
        "#Titan mishap: #Implosion with incredible forc...\ttitan mishap implosion with incredible force a...\tPOSITIVE\t0.996252\n",
        "#Wagner #Russia\twagner russia\tPOSITIVE\t0.992612\n",
        "#merri le #titanic 2 le retour [redacted link]...\tmerri le titanic le retour via\tPOSITIVE\t0.884200\n",
        "Il Segretario di Stato americano #Blinken: \"no...\til segretario di stato americano blinken non c...\tNEGATIVE\t0.953018\n",
        "Based on this sample, it appears the model is classifying tweets as either POSITIVE or NEGATIVE with relatively high confidence scores (generally above 0.9).\n",
        "\n",
        "Performance and Observations:\n",
        "\n",
        "The pre-trained distilbert-base-uncased-finetuned-sst-2-english model seems to be performing well on this dataset, assigning high confidence scores to its predictions.\n",
        "The cleaning process appears effective in removing irrelevant characters and elements from the tweets, providing cleaner input for the sentiment analysis model.\n",
        "The sentiment_scores_transformers function successfully extracts the sentiment label and score from the model's output.\n",
        "It's important to note that this is a small sample (500 out of the full dataset), and a more comprehensive analysis on the entire dataset would provide a more accurate representation of the sentiment distribution and model performance.\n",
        "The model used is a general-purpose sentiment analysis model fine-tuned on movie reviews (SST-2). Its performance on tweets related to specific events or domains might vary. Further evaluation with domain-specific data or a fine-tuned model could be beneficial.\n",
        "Further Steps:\n",
        "\n",
        "Analyze the sentiment distribution across the entire dataset.\n",
        "Visualize the sentiment distribution.\n",
        "Consider using other sentiment analysis models or techniques for comparison.\n",
        "If necessary, fine-tune the model on a dataset of tweets relevant to the specific domain of interest."
      ],
      "metadata": {
        "id": "26mA9HQ_hwot"
      }
    }
  ]
}