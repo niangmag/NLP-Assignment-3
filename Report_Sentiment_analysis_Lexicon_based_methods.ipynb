{
  "nbformat": 4,
  "nbformat_minor": 0,
  "metadata": {
    "colab": {
      "provenance": [],
      "toc_visible": true,
      "authorship_tag": "ABX9TyNZY5v/1nOiCIx7tbOUXoB7",
      "include_colab_link": true
    },
    "kernelspec": {
      "name": "python3",
      "display_name": "Python 3"
    },
    "language_info": {
      "name": "python"
    }
  },
  "cells": [
    {
      "cell_type": "markdown",
      "metadata": {
        "id": "view-in-github",
        "colab_type": "text"
      },
      "source": [
        "<a href=\"https://colab.research.google.com/github/niangmag/NLP-Assignment-3/blob/Sentiment_Analysis/Report_Sentiment_analysis_Lexicon_based_methods.ipynb\" target=\"_parent\"><img src=\"https://colab.research.google.com/assets/colab-badge.svg\" alt=\"Open In Colab\"/></a>"
      ]
    },
    {
      "cell_type": "code",
      "execution_count": null,
      "metadata": {
        "id": "29_rEbYma4Sy"
      },
      "outputs": [],
      "source": []
    },
    {
      "cell_type": "markdown",
      "source": [
        "Report on Sentiment Analysis of Tweets\n",
        "\n",
        "This report summarizes the process and results of performing sentiment analysis on a sample of tweets.\n",
        "\n",
        "Task Overview:\n",
        "\n",
        "The goal was to perform sentiment analysis on a dataset of tweets to determine the sentiment (Positive, Negative, or Neutral) and a corresponding sentiment score for each tweet.\n",
        "\n",
        "Process and Results:\n",
        "\n",
        "Data Loading and Sampling:\n",
        "The dataset was loaded from the \"tweets-data.csv\" file into a pandas DataFrame named df.\n",
        "A random sample of 500 tweets was taken from the original DataFrame and stored in a new DataFrame called df_sample. This was done to work with a smaller, more manageable subset of the data for analysis.\n",
        "Text Cleaning:\n",
        "A function clean_text was defined to preprocess the tweet text. This function performed the following operations:\n",
        "Converted the input to a string.\n",
        "Removed URLs.\n",
        "Removed mentions (words starting with \"@\").\n",
        "Removed hashtag symbols (\"#\").\n",
        "Kept only letters and whitespace.\n",
        "Converted the text to lowercase and removed leading/trailing whitespace.\n",
        "This clean_text function was applied to the 'Tweets' column of the df_sample DataFrame, and the cleaned text was stored in a new column called cleaned_text. This step is crucial for preparing the text data for sentiment analysis by removing noise and standardizing the text.\n",
        "Sentiment Analysis using VADER:\n",
        "The NLTK library and its VADER (Valence Aware Dictionary and sEntiment Reasoner) lexicon were used for sentiment analysis.\n",
        "The vader_lexicon was downloaded.\n",
        "A function sentiment_scores was defined to calculate the sentiment of a given sentence using VADER. This function returned both a sentiment label (Positive, Negative, or Neutral) and a compound sentiment score.\n",
        "The sentiment_scores function was applied to the cleaned_text column of the df_sample DataFrame.\n",
        "The results were stored in two new columns: sentiment_label and sentiment_score.\n",
        "Outputs and Performance:\n",
        "\n",
        "The execution of the steps resulted in the df_sample DataFrame being augmented with two new columns: cleaned_text, sentiment_label, and sentiment_score.\n",
        "The cleaned_text column contains the cleaned versions of the original tweets, free from URLs, mentions, hashtags, and non-alphabetic characters.\n",
        "The sentiment_label column contains the categorical sentiment assigned by VADER (Positive, Negative, or Neutral) for each tweet based on the compound score threshold.\n",
        "The sentiment_score column contains the compound sentiment score calculated by VADER for each tweet. This score is a float between -1 and 1, representing the overall sentiment intensity.\n",
        "Comment on Performance:\n",
        "\n",
        "The VADER sentiment analysis performed efficiently on the sampled data. The process of cleaning the text and applying the sentiment function was relatively fast for 500 tweets. The VADER lexicon is a rule-based sentiment analysis model, which is generally fast and suitable for many social media texts. However, its performance can be limited by the vocabulary covered in its lexicon and its inability to understand nuances like sarcasm or context-specific sentiment. For more complex sentiment analysis or domain-specific texts, other methods like machine learning models might be more appropriate. The output shows a mix of positive, negative, and neutral sentiments, which is expected for a general collection of tweets. The detailed sentiment scores and labels are now available for further analysis and visualization.\n",
        "\n",
        "This concludes the sentiment analysis process for the sampled tweets. The results are ready for further exploration or reporting as needed."
      ],
      "metadata": {
        "id": "UIQIujNLa47V"
      }
    }
  ]
}